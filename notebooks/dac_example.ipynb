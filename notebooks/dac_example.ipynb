{
 "cells": [
  {
   "cell_type": "markdown",
   "metadata": {},
   "source": [
    "# Descript Audio Codec (DAC) Example\n",
    "\n",
    "This notebook demonstrates how to use the DAC model from CodecPlus library."
   ]
  },
  {
   "cell_type": "code",
   "execution_count": null,
   "metadata": {},
   "outputs": [],
   "source": [
    "import numpy as np\n",
    "import matplotlib.pyplot as plt\n",
    "\n",
    "from codecplus import load_codec\n",
    "from codecplus.utils import load_audio, save_audio"
   ]
  },
  {
   "cell_type": "markdown",
   "metadata": {},
   "source": [
    "## Load Audio File"
   ]
  },
  {
   "cell_type": "code",
   "execution_count": null,
   "metadata": {},
   "outputs": [],
   "source": [
    "# Load audio file\n",
    "audio_path = \"path/to/audio.wav\"\n",
    "audio, sr = load_audio(audio_path)"
   ]
  },
  {
   "cell_type": "markdown",
   "metadata": {},
   "source": [
    "## Initialize DAC"
   ]
  },
  {
   "cell_type": "code",
   "execution_count": null,
   "metadata": {},
   "outputs": [],
   "source": [
    "# Initialize DAC model\n",
    "dac = load_codec(\"dac\", sample_rate=44100, n_mels=80)"
   ]
  },
  {
   "cell_type": "markdown",
   "metadata": {},
   "source": [
    "## Encode Audio to Latents"
   ]
  },
  {
   "cell_type": "code",
   "execution_count": null,
   "metadata": {},
   "outputs": [],
   "source": [
    "# Encode audio to latent representation\n",
    "latents = dac.encode(audio)\n",
    "print(f\"Generated latents shape: {latents.shape}\")"
   ]
  },
  {
   "cell_type": "markdown",
   "metadata": {},
   "source": [
    "## Decode Latents Back to Audio"
   ]
  },
  {
   "cell_type": "code",
   "execution_count": null,
   "metadata": {},
   "outputs": [],
   "source": [
    "# Decode latents back to audio\n",
    "reconstructed_audio = dac.decode(latents)\n",
    "print(f\"Reconstructed audio shape: {reconstructed_audio.shape}\")"
   ]
  },
  {
   "cell_type": "markdown",
   "metadata": {},
   "source": [
    "## Visualize Original and Reconstructed Audio"
   ]
  },
  {
   "cell_type": "code",
   "execution_count": null,
   "metadata": {},
   "outputs": [],
   "source": [
    "# Plot original and reconstructed audio\n",
    "plt.figure(figsize=(15, 5))\n",
    "\n",
    "plt.subplot(2, 1, 1)\n",
    "plt.plot(audio)\n",
    "plt.title(\"Original Audio\")\n",
    "\n",
    "plt.subplot(2, 1, 2)\n",
    "plt.plot(reconstructed_audio)\n",
    "plt.title(\"Reconstructed Audio\")\n",
    "\n",
    "plt.tight_layout()\n",
    "plt.show()"
   ]
  },
  {
   "cell_type": "markdown",
   "metadata": {},
   "source": [
    "## Analyze Compression"
   ]
  },
  {
   "cell_type": "code",
   "execution_count": null,
   "metadata": {},
   "outputs": [],
   "source": [
    "# Calculate compression ratio\n",
    "original_size = audio.size * audio.itemsize\n",
    "compressed_size = latents.size * latents.itemsize\n",
    "compression_ratio = original_size / compressed_size\n",
    "\n",
    "print(f\"Original audio size: {original_size / 1024:.2f} KB\")\n",
    "print(f\"Compressed representation size: {compressed_size / 1024:.2f} KB\")\n",
    "print(f\"Compression ratio: {compression_ratio:.2f}x\")"
   ]
  },
  {
   "cell_type": "markdown",
   "metadata": {},
   "source": [
    "## Save Reconstructed Audio"
   ]
  },
  {
   "cell_type": "code",
   "execution_count": null,
   "metadata": {},
   "outputs": [],
   "source": [
    "# Save reconstructed audio\n",
    "output_path = \"path/to/dac_reconstructed.wav\"\n",
    "save_audio(reconstructed_audio, output_path, sr)"
   ]
  }
 ],
 "metadata": {
  "kernelspec": {
   "display_name": "Python 3",
   "language": "python",
   "name": "python3"
  },
  "language_info": {
   "codemirror_mode": {
    "name": "ipython",
    "version": 3
   },
   "file_extension": ".py",
   "mimetype": "text/x-python",
   "name": "python",
   "nbconvert_exporter": "python",
   "pygments_lexer": "ipython3",
   "version": "3.8.10"
  }
 },
 "nbformat": 4,
 "nbformat_minor": 4
}
