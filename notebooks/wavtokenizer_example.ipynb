{
 "cells": [
  {
   "cell_type": "markdown",
   "metadata": {},
   "source": [
    "# WavTokenizer Example\n",
    "\n",
    "This notebook demonstrates how to use the WavTokenizer model from CodecPlus library."
   ]
  },
  {
   "cell_type": "code",
   "execution_count": null,
   "metadata": {},
   "outputs": [],
   "source": [
    "import matplotlib.pyplot as plt\n",
    "\n",
    "from codecplus import load_codec\n",
    "from codecplus.utils import load_audio, save_audio"
   ]
  },
  {
   "cell_type": "markdown",
   "metadata": {},
   "source": [
    "## Load Audio File"
   ]
  },
  {
   "cell_type": "code",
   "execution_count": null,
   "metadata": {},
   "outputs": [],
   "source": [
    "# Load audio file\n",
    "audio_path = \"path/to/audio.wav\"\n",
    "audio, sr = load_audio(audio_path)"
   ]
  },
  {
   "cell_type": "markdown",
   "metadata": {},
   "source": [
    "## Initialize WavTokenizer"
   ]
  },
  {
   "cell_type": "code",
   "execution_count": null,
   "metadata": {},
   "outputs": [],
   "source": [
    "# Initialize WavTokenizer\n",
    "wav_tokenizer = load_codec(\"wav_tokenizer\", sample_rate=16000)"
   ]
  },
  {
   "cell_type": "markdown",
   "metadata": {},
   "source": [
    "## Encode Audio to Tokens"
   ]
  },
  {
   "cell_type": "code",
   "execution_count": null,
   "metadata": {},
   "outputs": [],
   "source": [
    "# Encode audio to tokens\n",
    "tokens = wav_tokenizer.encode(audio)\n",
    "print(f\"Generated tokens shape: {tokens.shape}\")"
   ]
  },
  {
   "cell_type": "markdown",
   "metadata": {},
   "source": [
    "## Decode Tokens Back to Audio"
   ]
  },
  {
   "cell_type": "code",
   "execution_count": null,
   "metadata": {},
   "outputs": [],
   "source": [
    "# Decode tokens back to audio\n",
    "reconstructed_audio = wav_tokenizer.decode(tokens)\n",
    "print(f\"Reconstructed audio shape: {reconstructed_audio.shape}\")"
   ]
  },
  {
   "cell_type": "markdown",
   "metadata": {},
   "source": [
    "## Visualize Original and Reconstructed Audio"
   ]
  },
  {
   "cell_type": "code",
   "execution_count": null,
   "metadata": {},
   "outputs": [],
   "source": [
    "# Plot original and reconstructed audio\n",
    "plt.figure(figsize=(15, 5))\n",
    "\n",
    "plt.subplot(2, 1, 1)\n",
    "plt.plot(audio)\n",
    "plt.title(\"Original Audio\")\n",
    "\n",
    "plt.subplot(2, 1, 2)\n",
    "plt.plot(reconstructed_audio)\n",
    "plt.title(\"Reconstructed Audio\")\n",
    "\n",
    "plt.tight_layout()\n",
    "plt.show()"
   ]
  },
  {
   "cell_type": "markdown",
   "metadata": {},
   "source": [
    "## Save Reconstructed Audio"
   ]
  },
  {
   "cell_type": "code",
   "execution_count": null,
   "metadata": {},
   "outputs": [],
   "source": [
    "# Save reconstructed audio\n",
    "output_path = \"path/to/reconstructed_audio.wav\"\n",
    "save_audio(reconstructed_audio, output_path, sr)"
   ]
  }
 ],
 "metadata": {
  "kernelspec": {
   "display_name": "Python 3",
   "language": "python",
   "name": "python3"
  },
  "language_info": {
   "codemirror_mode": {
    "name": "ipython",
    "version": 3
   },
   "file_extension": ".py",
   "mimetype": "text/x-python",
   "name": "python",
   "nbconvert_exporter": "python",
   "pygments_lexer": "ipython3",
   "version": "3.8.10"
  }
 },
 "nbformat": 4,
 "nbformat_minor": 4
}
